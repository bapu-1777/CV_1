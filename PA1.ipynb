{
 "cells": [
  {
   "cell_type": "markdown",
   "id": "30fd4a17",
   "metadata": {},
   "source": [
    "# CSE 6367 Programming Assignment 1 (P1)\n",
    "## Summer 2023\n",
    "## Due: 11:59pm Central Time, Friday, July 7, 2023"
   ]
  },
  {
   "cell_type": "markdown",
   "id": "7c703c0e",
   "metadata": {},
   "source": [
    "Note: For Task 1 - Task 4 of this programming assignment, you may use any libraries you want."
   ]
  },
  {
   "cell_type": "markdown",
   "id": "b09398a4",
   "metadata": {},
   "source": [
    "### Task 1 (25 points) \n",
    "\n",
    "Import the \"colors.png\" image \n",
    "\n",
    "<img src = \"Images/colors.png\" style=\"width:200px;height:200px\">\n",
    "\n",
    "a) Display the Red, Green and Blue color channels separately in a 1X3 plot. Use grayscale colormap for displaying the images (cmap = \"gray\" in matplotlib)\n",
    "\n",
    "b) Convert the image to grayscale using the formula, grayscale = (Red + Green + Blue / 3) and display the image.\n",
    "\n",
    "c) Apply a mask on the original image based on pixel intensity values where red pixel values are in the range (100-255) and blue and green pixel values are in the range (0-50) and show the masked image.\n",
    "\n",
    "d) Display the Text \"Red\" inside the Red part of the image, \"Green\" inside the Green part and \"Blue\" inside the green part of the image. Use a reasonable font size and display the texts (\"Red, \"Green\", \"Blue\") in white color."
   ]
  },
  {
   "cell_type": "markdown",
   "id": "a134d953",
   "metadata": {},
   "source": [
    "### Task 2 (25 points)\n",
    "\n",
    "Import the \"cameraman.jpeg\" image and apply different geometric transformations to it.\n",
    "\n",
    "a) Shift the original image 50 pixels left and 50 pixels down and display the translated image.\n",
    "\n",
    "b) Rotate the image by 60 degree and display the result.\n",
    "\n",
    "c) Flip the image vertically and horizontally and display the results in a 1X2 plot.\n",
    "\n",
    "d) Crop the head part of the cameraman and display it. (no specific crop requirement, any reasonable crop of the head will be considered correct)"
   ]
  },
  {
   "cell_type": "markdown",
   "id": "950b929c",
   "metadata": {},
   "source": [
    "### Task 3 (25 points) \n",
    "\n",
    "Import the \"cameraman.jpeg\" image and\n",
    "\n",
    "a) Perform average blur with kernel size 9X9 and 25X25. \n",
    "\n",
    "b) Perform gaussian blur with kernel size 9X9, sigma (standard deviation of the Gaussian) of 2.0 and another gaussian blur with kernel size 25X25, sigma 15.0\n",
    "\n",
    "c) Perform median blur with kernel size 5X5 and 15X15.\n",
    "\n",
    "d) Resize the guassian blurred image with kernel size 25X25 and sigma 15 to 40X40 pixels, and resize the original image to 40X40 pixels. \n",
    "\n",
    "Note: Apply zero-padding to make the filtered image size same as original image. Display the original image with the filtered/processed images in a 1X3 grid. "
   ]
  },
  {
   "cell_type": "markdown",
   "id": "db65d991",
   "metadata": {},
   "source": [
    "### Task 4 (25 points)\n",
    "\n",
    "Import the \"cameraman.jpeg\" image and apply\n",
    "\n",
    "a) Sobel edge detector (Apply horizontal and vertical sobel filters and display the Sobel magnitude image)\n",
    "\n",
    "b) Prewitt edge detector (Apply horizontal and vertical prewitt filters and display the Prewitt magnitude image)\n",
    "\n",
    "c) Laplacian edge detector \n",
    "\n",
    "d) Canny edge detector\n",
    "    \n",
    "Note: Apply zero-padding to make the filtered image size same as original image. Display the original image with the filtered images in a 1X2 plot. "
   ]
  },
  {
   "cell_type": "markdown",
   "id": "47983adc",
   "metadata": {},
   "source": [
    "### Task 5 (optional - 20 points)\n",
    "\n",
    "Implement \"Canny Edge Detector\" from scratch without using any library functions and compare your result with OpenCV implementation of \"Canny Edge Detector\""
   ]
  },
  {
   "cell_type": "markdown",
   "id": "fb593acf",
   "metadata": {},
   "source": [
    "## Submission Guidelines:\n",
    "\n",
    "1. Submit through Canvas your source code in a single .ipynb file. The name of the .ipynb file should be YourStudentID.ipynb. (For example: 1001234567.ipynb)\n",
    "\n",
    "2. Import all the images from the ./Images directory. Your TA will use the same directory name to grade your submission.\n",
    "\n",
    "3. You don't need to attach the image file with your submission.\n"
   ]
  }
 ],
 "metadata": {
  "kernelspec": {
   "display_name": "Python 3 (ipykernel)",
   "language": "python",
   "name": "python3"
  },
  "language_info": {
   "codemirror_mode": {
    "name": "ipython",
    "version": 3
   },
   "file_extension": ".py",
   "mimetype": "text/x-python",
   "name": "python",
   "nbconvert_exporter": "python",
   "pygments_lexer": "ipython3",
   "version": "3.10.4"
  }
 },
 "nbformat": 4,
 "nbformat_minor": 5
}
